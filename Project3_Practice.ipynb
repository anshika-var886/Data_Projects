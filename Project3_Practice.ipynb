{
 "cells": [
  {
   "cell_type": "markdown",
   "id": "0aa8c85e-0df3-4ca5-94ad-593a255b7e41",
   "metadata": {},
   "source": [
    "<h4> Predicting Charges and running regression </h4>"
   ]
  },
  {
   "cell_type": "code",
   "execution_count": 1,
   "id": "f8d8e878-cd64-4fb7-b53e-7ac9f86c0810",
   "metadata": {},
   "outputs": [],
   "source": [
    "import pandas as pd\n",
    "import seaborn as sns\n",
    "import numpy as np\n",
    "from pandas import Series, DataFrame\n",
    "import matplotlib.pyplot as plt\n",
    "%matplotlib inline "
   ]
  },
  {
   "cell_type": "code",
   "execution_count": 2,
   "id": "89f4a510-38c0-487f-b081-664834e887c3",
   "metadata": {},
   "outputs": [
    {
     "data": {
      "text/html": [
       "<div>\n",
       "<style scoped>\n",
       "    .dataframe tbody tr th:only-of-type {\n",
       "        vertical-align: middle;\n",
       "    }\n",
       "\n",
       "    .dataframe tbody tr th {\n",
       "        vertical-align: top;\n",
       "    }\n",
       "\n",
       "    .dataframe thead th {\n",
       "        text-align: right;\n",
       "    }\n",
       "</style>\n",
       "<table border=\"1\" class=\"dataframe\">\n",
       "  <thead>\n",
       "    <tr style=\"text-align: right;\">\n",
       "      <th></th>\n",
       "      <th>age</th>\n",
       "      <th>sex</th>\n",
       "      <th>bmi</th>\n",
       "      <th>children</th>\n",
       "      <th>smoker</th>\n",
       "      <th>region</th>\n",
       "      <th>charges</th>\n",
       "    </tr>\n",
       "  </thead>\n",
       "  <tbody>\n",
       "    <tr>\n",
       "      <th>0</th>\n",
       "      <td>19.0</td>\n",
       "      <td>female</td>\n",
       "      <td>27.900</td>\n",
       "      <td>0.0</td>\n",
       "      <td>yes</td>\n",
       "      <td>southwest</td>\n",
       "      <td>16884.924</td>\n",
       "    </tr>\n",
       "    <tr>\n",
       "      <th>1</th>\n",
       "      <td>18.0</td>\n",
       "      <td>male</td>\n",
       "      <td>33.770</td>\n",
       "      <td>1.0</td>\n",
       "      <td>no</td>\n",
       "      <td>Southeast</td>\n",
       "      <td>1725.5523</td>\n",
       "    </tr>\n",
       "    <tr>\n",
       "      <th>2</th>\n",
       "      <td>28.0</td>\n",
       "      <td>male</td>\n",
       "      <td>33.000</td>\n",
       "      <td>3.0</td>\n",
       "      <td>no</td>\n",
       "      <td>southeast</td>\n",
       "      <td>$4449.462</td>\n",
       "    </tr>\n",
       "    <tr>\n",
       "      <th>3</th>\n",
       "      <td>33.0</td>\n",
       "      <td>male</td>\n",
       "      <td>22.705</td>\n",
       "      <td>0.0</td>\n",
       "      <td>no</td>\n",
       "      <td>northwest</td>\n",
       "      <td>$21984.47061</td>\n",
       "    </tr>\n",
       "    <tr>\n",
       "      <th>4</th>\n",
       "      <td>32.0</td>\n",
       "      <td>male</td>\n",
       "      <td>28.880</td>\n",
       "      <td>0.0</td>\n",
       "      <td>no</td>\n",
       "      <td>northwest</td>\n",
       "      <td>$3866.8552</td>\n",
       "    </tr>\n",
       "  </tbody>\n",
       "</table>\n",
       "</div>"
      ],
      "text/plain": [
       "    age     sex     bmi  children smoker     region       charges\n",
       "0  19.0  female  27.900       0.0    yes  southwest     16884.924\n",
       "1  18.0    male  33.770       1.0     no  Southeast     1725.5523\n",
       "2  28.0    male  33.000       3.0     no  southeast     $4449.462\n",
       "3  33.0    male  22.705       0.0     no  northwest  $21984.47061\n",
       "4  32.0    male  28.880       0.0     no  northwest    $3866.8552"
      ]
     },
     "execution_count": 2,
     "metadata": {},
     "output_type": "execute_result"
    }
   ],
   "source": [
    "ins = pd.read_csv('Project3_Jupyter/insurance.csv')\n",
    "ins.head()"
   ]
  },
  {
   "cell_type": "code",
   "execution_count": 3,
   "id": "2eb349f6-4023-4306-801f-9e1bdfc84a14",
   "metadata": {},
   "outputs": [
    {
     "name": "stdout",
     "output_type": "stream",
     "text": [
      "<class 'pandas.core.frame.DataFrame'>\n",
      "RangeIndex: 1338 entries, 0 to 1337\n",
      "Data columns (total 7 columns):\n",
      " #   Column    Non-Null Count  Dtype  \n",
      "---  ------    --------------  -----  \n",
      " 0   age       1272 non-null   float64\n",
      " 1   sex       1272 non-null   object \n",
      " 2   bmi       1272 non-null   float64\n",
      " 3   children  1272 non-null   float64\n",
      " 4   smoker    1272 non-null   object \n",
      " 5   region    1272 non-null   object \n",
      " 6   charges   1284 non-null   object \n",
      "dtypes: float64(3), object(4)\n",
      "memory usage: 73.3+ KB\n"
     ]
    }
   ],
   "source": [
    "ins.info()"
   ]
  },
  {
   "cell_type": "code",
   "execution_count": 4,
   "id": "cceb2b3b-7af7-41b1-9c82-7a2266c4a367",
   "metadata": {},
   "outputs": [],
   "source": [
    "#Cleaning the data\n",
    "ins_filled = ins.copy()\n",
    "ins_filled.dropna(inplace=True)"
   ]
  },
  {
   "cell_type": "code",
   "execution_count": 5,
   "id": "f9b80f42-4faa-423f-8e4e-2778fc8254a5",
   "metadata": {},
   "outputs": [],
   "source": [
    "#Modifying the dataset columns"
   ]
  },
  {
   "cell_type": "code",
   "execution_count": 6,
   "id": "0989deb6-b9af-441f-896a-bcf55c370ffb",
   "metadata": {},
   "outputs": [],
   "source": [
    "ins_filled['region'] = ins_filled['region'].str.lower()\n",
    "ins_filled['smoker'].unique()\n",
    "to_num = {'yes': 1, 'no': 0}\n",
    "\n",
    "ins_filled['smoker'] = ins_filled['smoker'].map(to_num)\n"
   ]
  },
  {
   "cell_type": "code",
   "execution_count": 7,
   "id": "ff5f918e-df63-4268-ab19-c54d90e3540f",
   "metadata": {},
   "outputs": [
    {
     "data": {
      "text/plain": [
       "0       1\n",
       "1       0\n",
       "2       0\n",
       "3       0\n",
       "4       0\n",
       "       ..\n",
       "1333    0\n",
       "1334    0\n",
       "1335    0\n",
       "1336    0\n",
       "1337    1\n",
       "Name: smoker, Length: 1208, dtype: int64"
      ]
     },
     "execution_count": 7,
     "metadata": {},
     "output_type": "execute_result"
    }
   ],
   "source": [
    "ins_filled['smoker']"
   ]
  },
  {
   "cell_type": "code",
   "execution_count": 8,
   "id": "a4a259e4-547c-47f8-912b-ae368c79dfea",
   "metadata": {},
   "outputs": [
    {
     "data": {
      "text/plain": [
       "0       0\n",
       "1       1\n",
       "2       1\n",
       "3       1\n",
       "4       1\n",
       "       ..\n",
       "1333    1\n",
       "1334    0\n",
       "1335    0\n",
       "1336    0\n",
       "1337    0\n",
       "Name: sex, Length: 1208, dtype: int64"
      ]
     },
     "execution_count": 8,
     "metadata": {},
     "output_type": "execute_result"
    }
   ],
   "source": [
    "mapped = {'woman': 0, 'man': 1, 'F': 0, 'M': 1, 'female': 0, 'male': 1}\n",
    "ins_filled['sex'] = ins_filled['sex'].map(mapped)\n",
    "ins_filled['sex']"
   ]
  },
  {
   "cell_type": "code",
   "execution_count": 9,
   "id": "d8012785-72b6-41dd-8d18-666f676113a0",
   "metadata": {},
   "outputs": [],
   "source": [
    "ins_filled.sample(10)\n",
    "ins_filled['charges'] = ins_filled['charges'].str.replace('$', ' ').astype(np.float64)\n",
    "ins_filled['children'] = ins_filled['children'].astype(np.int64)\n"
   ]
  },
  {
   "cell_type": "code",
   "execution_count": 10,
   "id": "ae192180-83f1-496f-bd92-e9427bd06818",
   "metadata": {},
   "outputs": [
    {
     "data": {
      "text/plain": [
       "0       16884.92400\n",
       "1        1725.55230\n",
       "2        4449.46200\n",
       "3       21984.47061\n",
       "4        3866.85520\n",
       "           ...     \n",
       "1333    10600.54830\n",
       "1334     2205.98080\n",
       "1335     1629.83350\n",
       "1336     2007.94500\n",
       "1337    29141.36030\n",
       "Name: charges, Length: 1208, dtype: float64"
      ]
     },
     "execution_count": 10,
     "metadata": {},
     "output_type": "execute_result"
    }
   ],
   "source": [
    "ins_filled['charges']"
   ]
  },
  {
   "cell_type": "code",
   "execution_count": 11,
   "id": "f484a72a-b337-435e-afa2-4f472e5f9fb3",
   "metadata": {},
   "outputs": [],
   "source": [
    "col_abs = ['charges', 'children', 'age']\n",
    "for col in col_abs:\n",
    "    ins_filled[col] = ins_filled[col].abs()"
   ]
  },
  {
   "cell_type": "code",
   "execution_count": 12,
   "id": "21ab2f7c-b8ae-443b-98b7-1a71086cebd6",
   "metadata": {},
   "outputs": [
    {
     "data": {
      "text/html": [
       "<div>\n",
       "<style scoped>\n",
       "    .dataframe tbody tr th:only-of-type {\n",
       "        vertical-align: middle;\n",
       "    }\n",
       "\n",
       "    .dataframe tbody tr th {\n",
       "        vertical-align: top;\n",
       "    }\n",
       "\n",
       "    .dataframe thead th {\n",
       "        text-align: right;\n",
       "    }\n",
       "</style>\n",
       "<table border=\"1\" class=\"dataframe\">\n",
       "  <thead>\n",
       "    <tr style=\"text-align: right;\">\n",
       "      <th></th>\n",
       "      <th>age</th>\n",
       "      <th>sex</th>\n",
       "      <th>bmi</th>\n",
       "      <th>children</th>\n",
       "      <th>smoker</th>\n",
       "      <th>region</th>\n",
       "      <th>charges</th>\n",
       "    </tr>\n",
       "  </thead>\n",
       "  <tbody>\n",
       "    <tr>\n",
       "      <th>437</th>\n",
       "      <td>35.0</td>\n",
       "      <td>1</td>\n",
       "      <td>28.900</td>\n",
       "      <td>3</td>\n",
       "      <td>0</td>\n",
       "      <td>southwest</td>\n",
       "      <td>5926.84600</td>\n",
       "    </tr>\n",
       "    <tr>\n",
       "      <th>180</th>\n",
       "      <td>58.0</td>\n",
       "      <td>1</td>\n",
       "      <td>28.595</td>\n",
       "      <td>0</td>\n",
       "      <td>0</td>\n",
       "      <td>northwest</td>\n",
       "      <td>11735.87905</td>\n",
       "    </tr>\n",
       "    <tr>\n",
       "      <th>458</th>\n",
       "      <td>56.0</td>\n",
       "      <td>1</td>\n",
       "      <td>39.600</td>\n",
       "      <td>0</td>\n",
       "      <td>0</td>\n",
       "      <td>southwest</td>\n",
       "      <td>10601.41200</td>\n",
       "    </tr>\n",
       "    <tr>\n",
       "      <th>1134</th>\n",
       "      <td>28.0</td>\n",
       "      <td>1</td>\n",
       "      <td>33.820</td>\n",
       "      <td>0</td>\n",
       "      <td>0</td>\n",
       "      <td>northwest</td>\n",
       "      <td>19673.33573</td>\n",
       "    </tr>\n",
       "    <tr>\n",
       "      <th>781</th>\n",
       "      <td>18.0</td>\n",
       "      <td>1</td>\n",
       "      <td>41.140</td>\n",
       "      <td>0</td>\n",
       "      <td>0</td>\n",
       "      <td>southeast</td>\n",
       "      <td>1146.79660</td>\n",
       "    </tr>\n",
       "    <tr>\n",
       "      <th>991</th>\n",
       "      <td>38.0</td>\n",
       "      <td>0</td>\n",
       "      <td>27.835</td>\n",
       "      <td>2</td>\n",
       "      <td>0</td>\n",
       "      <td>northeast</td>\n",
       "      <td>7144.86265</td>\n",
       "    </tr>\n",
       "    <tr>\n",
       "      <th>696</th>\n",
       "      <td>53.0</td>\n",
       "      <td>0</td>\n",
       "      <td>32.300</td>\n",
       "      <td>2</td>\n",
       "      <td>0</td>\n",
       "      <td>northeast</td>\n",
       "      <td>29186.48236</td>\n",
       "    </tr>\n",
       "    <tr>\n",
       "      <th>1261</th>\n",
       "      <td>28.0</td>\n",
       "      <td>1</td>\n",
       "      <td>37.100</td>\n",
       "      <td>1</td>\n",
       "      <td>0</td>\n",
       "      <td>southwest</td>\n",
       "      <td>3277.16100</td>\n",
       "    </tr>\n",
       "    <tr>\n",
       "      <th>1070</th>\n",
       "      <td>37.0</td>\n",
       "      <td>1</td>\n",
       "      <td>37.070</td>\n",
       "      <td>1</td>\n",
       "      <td>1</td>\n",
       "      <td>southeast</td>\n",
       "      <td>39871.70430</td>\n",
       "    </tr>\n",
       "    <tr>\n",
       "      <th>435</th>\n",
       "      <td>60.0</td>\n",
       "      <td>1</td>\n",
       "      <td>33.110</td>\n",
       "      <td>3</td>\n",
       "      <td>0</td>\n",
       "      <td>southeast</td>\n",
       "      <td>13919.82290</td>\n",
       "    </tr>\n",
       "  </tbody>\n",
       "</table>\n",
       "</div>"
      ],
      "text/plain": [
       "       age  sex     bmi  children  smoker     region      charges\n",
       "437   35.0    1  28.900         3       0  southwest   5926.84600\n",
       "180   58.0    1  28.595         0       0  northwest  11735.87905\n",
       "458   56.0    1  39.600         0       0  southwest  10601.41200\n",
       "1134  28.0    1  33.820         0       0  northwest  19673.33573\n",
       "781   18.0    1  41.140         0       0  southeast   1146.79660\n",
       "991   38.0    0  27.835         2       0  northeast   7144.86265\n",
       "696   53.0    0  32.300         2       0  northeast  29186.48236\n",
       "1261  28.0    1  37.100         1       0  southwest   3277.16100\n",
       "1070  37.0    1  37.070         1       1  southeast  39871.70430\n",
       "435   60.0    1  33.110         3       0  southeast  13919.82290"
      ]
     },
     "execution_count": 12,
     "metadata": {},
     "output_type": "execute_result"
    }
   ],
   "source": [
    "ins_filled.sample(10)"
   ]
  },
  {
   "cell_type": "markdown",
   "id": "3896a336-900c-47df-8bc0-4bcb14ca5cfb",
   "metadata": {},
   "source": [
    "1. Is there any relationship between 'age' and 'charges' columns, divide by whether they are smoker or not?"
   ]
  },
  {
   "cell_type": "code",
   "execution_count": 13,
   "id": "5589e3b2-af08-4e07-a7e0-745ae74b5f49",
   "metadata": {},
   "outputs": [
    {
     "data": {
      "image/png": "[encoded data removed]",
      "text/plain": [
       "<Figure size 562.111x500 with 1 Axes>"
      ]
     },
     "metadata": {},
     "output_type": "display_data"
    }
   ],
   "source": [
    "plt_df = ins_filled.copy()\n",
    "sns.lmplot(x='age', y='charges', hue='smoker', data= plt_df)\n",
    "plt.show()"
   ]
  },
  {
   "cell_type": "markdown",
   "id": "353e4db5-7d32-4f0b-a75b-b0a1068475d9",
   "metadata": {},
   "source": [
    "We find that there is a roughly linear relationship between the 'age' and 'charges' column. Also, as likely it felt, those who are smoker have higher charges as compared to those are not. However they is presence of outliers making us analyse not whole data can be explained by just these parameters."
   ]
  },
  {
   "cell_type": "markdown",
   "id": "9af6857f-5092-419a-ad0d-fcf2b5b5f63d",
   "metadata": {},
   "source": [
    "2. Is there a connection between 'bmi' and the 'charges'?"
   ]
  },
  {
   "cell_type": "code",
   "execution_count": 14,
   "id": "38a12731-ae24-4f0f-9be4-2fa42e5e5614",
   "metadata": {},
   "outputs": [
    {
     "data": {
      "image/png": "[encoded data removed]",
      "text/plain": [
       "<Figure size 500x500 with 1 Axes>"
      ]
     },
     "metadata": {},
     "output_type": "display_data"
    }
   ],
   "source": [
    "sns.lmplot(x='bmi', y='charges', data=plt_df)\n",
    "plt.show()"
   ]
  },
  {
   "cell_type": "markdown",
   "id": "71bf7624-2186-4f5e-a6a6-a19c3c02982b",
   "metadata": {},
   "source": [
    "Not whole data can be analysed by these two parameters and there is a linear relationship between them but fairly weak."
   ]
  },
  {
   "cell_type": "code",
   "execution_count": null,
   "id": "817f45e7-22b4-4424-9cf2-cd471c34323c",
   "metadata": {},
   "outputs": [],
   "source": [
    "#Dummy Encoding"
   ]
  },
  {
   "cell_type": "code",
   "execution_count": 15,
   "id": "c5cdba8e-0ea1-4071-8426-c178b04d008d",
   "metadata": {},
   "outputs": [
    {
     "data": {
      "text/html": [
       "<div>\n",
       "<style scoped>\n",
       "    .dataframe tbody tr th:only-of-type {\n",
       "        vertical-align: middle;\n",
       "    }\n",
       "\n",
       "    .dataframe tbody tr th {\n",
       "        vertical-align: top;\n",
       "    }\n",
       "\n",
       "    .dataframe thead th {\n",
       "        text-align: right;\n",
       "    }\n",
       "</style>\n",
       "<table border=\"1\" class=\"dataframe\">\n",
       "  <thead>\n",
       "    <tr style=\"text-align: right;\">\n",
       "      <th></th>\n",
       "      <th>age</th>\n",
       "      <th>is_male</th>\n",
       "      <th>bmi</th>\n",
       "      <th>children</th>\n",
       "      <th>is_smoker</th>\n",
       "      <th>charges</th>\n",
       "      <th>region_northeast</th>\n",
       "      <th>region_northwest</th>\n",
       "      <th>region_southwest</th>\n",
       "    </tr>\n",
       "  </thead>\n",
       "  <tbody>\n",
       "    <tr>\n",
       "      <th>0</th>\n",
       "      <td>19.0</td>\n",
       "      <td>0</td>\n",
       "      <td>27.900</td>\n",
       "      <td>0</td>\n",
       "      <td>1</td>\n",
       "      <td>16884.92400</td>\n",
       "      <td>False</td>\n",
       "      <td>False</td>\n",
       "      <td>True</td>\n",
       "    </tr>\n",
       "    <tr>\n",
       "      <th>1</th>\n",
       "      <td>18.0</td>\n",
       "      <td>1</td>\n",
       "      <td>33.770</td>\n",
       "      <td>1</td>\n",
       "      <td>0</td>\n",
       "      <td>1725.55230</td>\n",
       "      <td>False</td>\n",
       "      <td>False</td>\n",
       "      <td>False</td>\n",
       "    </tr>\n",
       "    <tr>\n",
       "      <th>2</th>\n",
       "      <td>28.0</td>\n",
       "      <td>1</td>\n",
       "      <td>33.000</td>\n",
       "      <td>3</td>\n",
       "      <td>0</td>\n",
       "      <td>4449.46200</td>\n",
       "      <td>False</td>\n",
       "      <td>False</td>\n",
       "      <td>False</td>\n",
       "    </tr>\n",
       "    <tr>\n",
       "      <th>3</th>\n",
       "      <td>33.0</td>\n",
       "      <td>1</td>\n",
       "      <td>22.705</td>\n",
       "      <td>0</td>\n",
       "      <td>0</td>\n",
       "      <td>21984.47061</td>\n",
       "      <td>False</td>\n",
       "      <td>True</td>\n",
       "      <td>False</td>\n",
       "    </tr>\n",
       "    <tr>\n",
       "      <th>4</th>\n",
       "      <td>32.0</td>\n",
       "      <td>1</td>\n",
       "      <td>28.880</td>\n",
       "      <td>0</td>\n",
       "      <td>0</td>\n",
       "      <td>3866.85520</td>\n",
       "      <td>False</td>\n",
       "      <td>True</td>\n",
       "      <td>False</td>\n",
       "    </tr>\n",
       "  </tbody>\n",
       "</table>\n",
       "</div>"
      ],
      "text/plain": [
       "    age  is_male     bmi  children  is_smoker      charges  region_northeast  \\\n",
       "0  19.0        0  27.900         0          1  16884.92400             False   \n",
       "1  18.0        1  33.770         1          0   1725.55230             False   \n",
       "2  28.0        1  33.000         3          0   4449.46200             False   \n",
       "3  33.0        1  22.705         0          0  21984.47061             False   \n",
       "4  32.0        1  28.880         0          0   3866.85520             False   \n",
       "\n",
       "   region_northwest  region_southwest  \n",
       "0             False              True  \n",
       "1             False             False  \n",
       "2             False             False  \n",
       "3              True             False  \n",
       "4              True             False  "
      ]
     },
     "execution_count": 15,
     "metadata": {},
     "output_type": "execute_result"
    }
   ],
   "source": [
    "df_new = pd.get_dummies(plt_df, prefix=['region'], columns= ['region'])\n",
    "df_new = df_new.drop(columns=['region_southeast'])\n",
    "df_new.rename(columns={'smoker': 'is_smoker', 'sex': 'is_male'}, inplace= True)\n",
    "df_new= df_new.dropna()\n",
    "df_new.head()"
   ]
  },
  {
   "cell_type": "code",
   "execution_count": 7,
   "id": "e01a31fd-a8c6-401f-9317-e7afa6e93c4c",
   "metadata": {},
   "outputs": [],
   "source": [
    "#Putting the data into test, checking R_squared"
   ]
  },
  {
   "cell_type": "code",
   "execution_count": 16,
   "id": "885441ec-ab29-41eb-ba68-88aa828a4955",
   "metadata": {},
   "outputs": [
    {
     "data": {
      "text/plain": [
       "0.7049323160872816"
      ]
     },
     "execution_count": 16,
     "metadata": {},
     "output_type": "execute_result"
    }
   ],
   "source": [
    "from sklearn.model_selection import train_test_split\n",
    "from sklearn.linear_model import LinearRegression\n",
    "from sklearn.metrics import r2_score\n",
    "\n",
    "\n",
    "X = df_new.drop(columns=['charges'])\n",
    "Y = df_new['charges']\n",
    "\n",
    "\n",
    "\n",
    "X_train, X_test, Y_train, Y_test = train_test_split(X, Y, test_size=0.2, random_state=42)\n",
    "\n",
    "model = LinearRegression()\n",
    "model.fit(X_train, Y_train)\n",
    "\n",
    "Y_pred = model.predict(X_test)\n",
    "\n",
    "r2 = r2_score(Y_test, Y_pred)\n",
    "\n",
    "r2"
   ]
  },
  {
   "cell_type": "markdown",
   "id": "68bec637-d03b-4b3d-a62c-cd1069c48ba9",
   "metadata": {},
   "source": [
    "The R Squared gives us the healthy inference to explain how much other parameters in the dataset have an impact on 'Charges', especially more by 'Smoker' column."
   ]
  },
  {
   "cell_type": "code",
   "execution_count": 8,
   "id": "9be59034-1374-4ca9-966c-e0d846d66b48",
   "metadata": {},
   "outputs": [],
   "source": [
    "#Validating our regression model into the dataset."
   ]
  },
  {
   "cell_type": "code",
   "execution_count": 17,
   "id": "c8cf4b74-ba84-48e5-be53-7ab843be8f32",
   "metadata": {},
   "outputs": [
    {
     "data": {
      "text/html": [
       "<div>\n",
       "<style scoped>\n",
       "    .dataframe tbody tr th:only-of-type {\n",
       "        vertical-align: middle;\n",
       "    }\n",
       "\n",
       "    .dataframe tbody tr th {\n",
       "        vertical-align: top;\n",
       "    }\n",
       "\n",
       "    .dataframe thead th {\n",
       "        text-align: right;\n",
       "    }\n",
       "</style>\n",
       "<table border=\"1\" class=\"dataframe\">\n",
       "  <thead>\n",
       "    <tr style=\"text-align: right;\">\n",
       "      <th></th>\n",
       "      <th>age</th>\n",
       "      <th>sex</th>\n",
       "      <th>bmi</th>\n",
       "      <th>children</th>\n",
       "      <th>smoker</th>\n",
       "      <th>region</th>\n",
       "    </tr>\n",
       "  </thead>\n",
       "  <tbody>\n",
       "    <tr>\n",
       "      <th>0</th>\n",
       "      <td>18.0</td>\n",
       "      <td>female</td>\n",
       "      <td>24.090000</td>\n",
       "      <td>1.0</td>\n",
       "      <td>no</td>\n",
       "      <td>southeast</td>\n",
       "    </tr>\n",
       "    <tr>\n",
       "      <th>1</th>\n",
       "      <td>39.0</td>\n",
       "      <td>male</td>\n",
       "      <td>26.410000</td>\n",
       "      <td>0.0</td>\n",
       "      <td>yes</td>\n",
       "      <td>northeast</td>\n",
       "    </tr>\n",
       "    <tr>\n",
       "      <th>2</th>\n",
       "      <td>27.0</td>\n",
       "      <td>male</td>\n",
       "      <td>29.150000</td>\n",
       "      <td>0.0</td>\n",
       "      <td>yes</td>\n",
       "      <td>southeast</td>\n",
       "    </tr>\n",
       "    <tr>\n",
       "      <th>3</th>\n",
       "      <td>71.0</td>\n",
       "      <td>male</td>\n",
       "      <td>65.502135</td>\n",
       "      <td>13.0</td>\n",
       "      <td>yes</td>\n",
       "      <td>southeast</td>\n",
       "    </tr>\n",
       "    <tr>\n",
       "      <th>4</th>\n",
       "      <td>28.0</td>\n",
       "      <td>male</td>\n",
       "      <td>38.060000</td>\n",
       "      <td>0.0</td>\n",
       "      <td>no</td>\n",
       "      <td>southeast</td>\n",
       "    </tr>\n",
       "  </tbody>\n",
       "</table>\n",
       "</div>"
      ],
      "text/plain": [
       "    age     sex        bmi  children smoker     region\n",
       "0  18.0  female  24.090000       1.0     no  southeast\n",
       "1  39.0    male  26.410000       0.0    yes  northeast\n",
       "2  27.0    male  29.150000       0.0    yes  southeast\n",
       "3  71.0    male  65.502135      13.0    yes  southeast\n",
       "4  28.0    male  38.060000       0.0     no  southeast"
      ]
     },
     "execution_count": 17,
     "metadata": {},
     "output_type": "execute_result"
    }
   ],
   "source": [
    "val_df = pd.read_csv('Project3_Jupyter/validation_dataset.csv')\n",
    "val_df.head()"
   ]
  },
  {
   "cell_type": "code",
   "execution_count": 9,
   "id": "60edd3e7-955c-4168-98fb-b62a61280b57",
   "metadata": {},
   "outputs": [],
   "source": [
    "#Making the data fit like the previous ones."
   ]
  },
  {
   "cell_type": "code",
   "execution_count": 18,
   "id": "5bd16321-1e9e-4d5d-9dd8-48ad3ae5383d",
   "metadata": {},
   "outputs": [],
   "source": [
    "def helper(df):\n",
    "    df_new = pd.get_dummies(df, prefix=['region'], columns= ['region'])\n",
    "    df_new = df_new.drop(columns=['region_southeast'])\n",
    "    df_new.rename(columns={'smoker': 'is_smoker', 'sex': 'is_male'}, inplace= True)\n",
    "    df_new['is_smoker'] = df_new['is_smoker'].map({'yes': 1, 'no':0})\n",
    "    df_new['is_male'] = df_new['is_male'].map({'female': 0, 'male':1})\n",
    "    df_new['is_male'] = df_new['is_male'].astype('int64')\n",
    "    return df_new"
   ]
  },
  {
   "cell_type": "code",
   "execution_count": 19,
   "id": "5d35df36-a714-41dd-b11f-bd50e3e7f856",
   "metadata": {},
   "outputs": [
    {
     "data": {
      "text/plain": [
       "array([ 3.52537878e+02,  3.09562147e+04,  2.77994096e+04,  5.71944148e+04,\n",
       "        6.68542631e+03,  5.86778384e+04,  7.04440596e+03,  1.30656580e+04,\n",
       "        1.26657036e+04,  1.61425411e+04,  2.52853835e+03,  1.44317748e+04,\n",
       "        1.13808735e+04,  1.20997623e+04,  2.69587308e+03,  3.72888611e+03,\n",
       "        4.25657672e+04,  6.43384787e+04,  5.93902149e+04,  1.15252685e+04,\n",
       "       -5.82951707e+01,  1.28982287e+04,  3.24813915e+04,  1.21666342e+04,\n",
       "        9.75512982e+03,  5.09785330e+03,  5.90920861e+04,  3.34504228e+03,\n",
       "        1.18776338e+04,  1.05767394e+04,  6.18916893e+03,  2.72111048e+04,\n",
       "        3.11411087e+04,  1.34473395e+04,  3.26866927e+04,  1.39288587e+04,\n",
       "        5.91570393e+04,  1.44799199e+04, -2.37352284e+02,  2.97924065e+04,\n",
       "        3.02110368e+04,  1.17286358e+04,  3.73534807e+03,  6.05651275e+04,\n",
       "        5.62647547e+03,  4.02915840e+04,  6.83106824e+04,  3.06084743e+04,\n",
       "        1.50741321e+04,  3.55325780e+04])"
      ]
     },
     "execution_count": 19,
     "metadata": {},
     "output_type": "execute_result"
    }
   ],
   "source": [
    "validation= helper(val_df)\n",
    "pred = model.predict(validation)\n",
    "pred"
   ]
  },
  {
   "cell_type": "code",
   "execution_count": 10,
   "id": "2e5aede6-cd7c-47c8-9e75-86ce82e76a14",
   "metadata": {},
   "outputs": [],
   "source": [
    "#Getting the predicted Charges"
   ]
  },
  {
   "cell_type": "code",
   "execution_count": 24,
   "id": "0de91982-facb-4db1-9a91-a9f195516a08",
   "metadata": {},
   "outputs": [
    {
     "data": {
      "text/html": [
       "<div>\n",
       "<style scoped>\n",
       "    .dataframe tbody tr th:only-of-type {\n",
       "        vertical-align: middle;\n",
       "    }\n",
       "\n",
       "    .dataframe tbody tr th {\n",
       "        vertical-align: top;\n",
       "    }\n",
       "\n",
       "    .dataframe thead th {\n",
       "        text-align: right;\n",
       "    }\n",
       "</style>\n",
       "<table border=\"1\" class=\"dataframe\">\n",
       "  <thead>\n",
       "    <tr style=\"text-align: right;\">\n",
       "      <th></th>\n",
       "      <th>age</th>\n",
       "      <th>sex</th>\n",
       "      <th>bmi</th>\n",
       "      <th>children</th>\n",
       "      <th>smoker</th>\n",
       "      <th>region</th>\n",
       "      <th>Predicted Charges</th>\n",
       "    </tr>\n",
       "  </thead>\n",
       "  <tbody>\n",
       "    <tr>\n",
       "      <th>0</th>\n",
       "      <td>18.0</td>\n",
       "      <td>female</td>\n",
       "      <td>24.090000</td>\n",
       "      <td>1.0</td>\n",
       "      <td>no</td>\n",
       "      <td>southeast</td>\n",
       "      <td>352.537878</td>\n",
       "    </tr>\n",
       "    <tr>\n",
       "      <th>1</th>\n",
       "      <td>39.0</td>\n",
       "      <td>male</td>\n",
       "      <td>26.410000</td>\n",
       "      <td>0.0</td>\n",
       "      <td>yes</td>\n",
       "      <td>northeast</td>\n",
       "      <td>30956.214707</td>\n",
       "    </tr>\n",
       "    <tr>\n",
       "      <th>2</th>\n",
       "      <td>27.0</td>\n",
       "      <td>male</td>\n",
       "      <td>29.150000</td>\n",
       "      <td>0.0</td>\n",
       "      <td>yes</td>\n",
       "      <td>southeast</td>\n",
       "      <td>27799.409607</td>\n",
       "    </tr>\n",
       "    <tr>\n",
       "      <th>3</th>\n",
       "      <td>71.0</td>\n",
       "      <td>male</td>\n",
       "      <td>65.502135</td>\n",
       "      <td>13.0</td>\n",
       "      <td>yes</td>\n",
       "      <td>southeast</td>\n",
       "      <td>57194.414804</td>\n",
       "    </tr>\n",
       "    <tr>\n",
       "      <th>4</th>\n",
       "      <td>28.0</td>\n",
       "      <td>male</td>\n",
       "      <td>38.060000</td>\n",
       "      <td>0.0</td>\n",
       "      <td>no</td>\n",
       "      <td>southeast</td>\n",
       "      <td>6685.426312</td>\n",
       "    </tr>\n",
       "  </tbody>\n",
       "</table>\n",
       "</div>"
      ],
      "text/plain": [
       "    age     sex        bmi  children smoker     region  Predicted Charges\n",
       "0  18.0  female  24.090000       1.0     no  southeast         352.537878\n",
       "1  39.0    male  26.410000       0.0    yes  northeast       30956.214707\n",
       "2  27.0    male  29.150000       0.0    yes  southeast       27799.409607\n",
       "3  71.0    male  65.502135      13.0    yes  southeast       57194.414804\n",
       "4  28.0    male  38.060000       0.0     no  southeast        6685.426312"
      ]
     },
     "execution_count": 24,
     "metadata": {},
     "output_type": "execute_result"
    }
   ],
   "source": [
    "pred_new = [x if x>0 else 1000 for x in pred]\n",
    "validation_data = val_df.copy()\n",
    "validation_data['Predicted Charges'] = pred_new\n",
    "validation_data.head()"
   ]
  },
  {
   "cell_type": "markdown",
   "id": "117494d8-2331-4a39-9c2c-1db2ea4bdd11",
   "metadata": {},
   "source": [
    "Thank You!"
   ]
  }
 ],
 "metadata": {
  "kernelspec": {
   "display_name": "Python [conda env:base] *",
   "language": "python",
   "name": "conda-base-py"
  },
  "language_info": {
   "codemirror_mode": {
    "name": "ipython",
    "version": 3
   },
   "file_extension": ".py",
   "mimetype": "text/x-python",
   "name": "python",
   "nbconvert_exporter": "python",
   "pygments_lexer": "ipython3",
   "version": "3.12.7"
  }
 },
 "nbformat": 4,
 "nbformat_minor": 5
}
